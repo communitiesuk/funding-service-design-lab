{
 "cells": [
  {
   "cell_type": "markdown",
   "metadata": {},
   "source": [
    "# FS-3693 Address Lookup Spike\n",
    "Spike to check we can connect to the post code lookup on OS GB places API, and then also if we can reconcile that with the local links manager local authority data.\n",
    "\n",
    "## Postcode search tech docs\n",
    "https://osdatahub.os.uk/docs/places/technicalSpecification\n",
    "\n",
    "## Local links manager\n",
    "https://github.com/alphagov/local-links-manager/blob/main/data/local-authorities.csv\n",
    "\n",
    "## Setup\n",
    "1. Create a virtual env `python3 -m venv .venv`\n",
    "1. Activate the venv `source .venv/bin/activate`\n",
    "1. Install requirements using `pip install -r requirements.txt`"
   ]
  },
  {
   "cell_type": "code",
   "execution_count": 1,
   "metadata": {},
   "outputs": [],
   "source": [
    "# Uses the dotenv extension to load vars from file .env\n",
    "%load_ext dotenv\n",
    "%dotenv"
   ]
  },
  {
   "cell_type": "markdown",
   "metadata": {},
   "source": [
    "# Retrieve data from postcode lookup\n",
    "Uses the api key (in bitwarden - add it to environment) to retrieve all addresses within the specified postcode, using the supplied language"
   ]
  },
  {
   "cell_type": "code",
   "execution_count": 2,
   "metadata": {},
   "outputs": [],
   "source": [
    "import requests, json, os\n",
    "api_key = os.getenv(\"PLACES_API_KEY\")\n",
    "postcode = \"RG29UD\"\n",
    "lang = \"en\"\n",
    "url = f\"https://api.os.uk/search/places/v1/postcode?key={api_key}&postcode={postcode}&lr={lang}\"\n",
    "results = requests.get(url=url)\n",
    "if results.status_code == 200:\n",
    "    result_json = results.json()\n",
    "elif results.status_code == 401:\n",
    "    print(\"Unauthorised\")\n",
    "else:\n",
    "    error_message = json.loads(results.text)[\"error\"][\"message\"]\n",
    "    print(f\"Error retrieving data: {error_message}\")\n"
   ]
  },
  {
   "cell_type": "markdown",
   "metadata": {},
   "source": [
    "# Print search results\n",
    "\n",
    "## Print full addresses"
   ]
  },
  {
   "cell_type": "code",
   "execution_count": 3,
   "metadata": {},
   "outputs": [
    {
     "name": "stdout",
     "output_type": "stream",
     "text": [
      "There are 6 results\n",
      "FLAT 1, HIRST HOUSE, 15, QUILLER AVENUE, ARBORFIELD GREEN, READING, RG2 9UD\n",
      "FLAT 2, HIRST HOUSE, 15, QUILLER AVENUE, ARBORFIELD GREEN, READING, RG2 9UD\n",
      "FLAT 3, HIRST HOUSE, 15, QUILLER AVENUE, ARBORFIELD GREEN, READING, RG2 9UD\n",
      "FLAT 4, HIRST HOUSE, 15, QUILLER AVENUE, ARBORFIELD GREEN, READING, RG2 9UD\n",
      "FLAT 5, HIRST HOUSE, 15, QUILLER AVENUE, ARBORFIELD GREEN, READING, RG2 9UD\n",
      "FLAT 6, HIRST HOUSE, 15, QUILLER AVENUE, ARBORFIELD GREEN, READING, RG2 9UD\n"
     ]
    }
   ],
   "source": [
    "results_count = result_json[\"header\"]['totalresults']\n",
    "if results_count == 0:\n",
    "    print(\"No results found\")\n",
    "else:\n",
    "    print(f\"There are {results_count} results\")\n",
    "    for r in result_json[\"results\"]:\n",
    "        print(r[\"DPA\"][\"ADDRESS\"])"
   ]
  },
  {
   "cell_type": "markdown",
   "metadata": {},
   "source": [
    "## Print a single record"
   ]
  },
  {
   "cell_type": "code",
   "execution_count": 4,
   "metadata": {},
   "outputs": [
    {
     "name": "stdout",
     "output_type": "stream",
     "text": [
      "{'DPA': {'UPRN': '10024050924', 'UDPRN': '54779187', 'ADDRESS': 'FLAT 1, HIRST HOUSE, 15, QUILLER AVENUE, ARBORFIELD GREEN, READING, RG2 9UD', 'SUB_BUILDING_NAME': 'FLAT 1', 'BUILDING_NAME': 'HIRST HOUSE', 'BUILDING_NUMBER': '15', 'THOROUGHFARE_NAME': 'QUILLER AVENUE', 'DEPENDENT_LOCALITY': 'ARBORFIELD GREEN', 'POST_TOWN': 'READING', 'POSTCODE': 'RG2 9UD', 'RPC': '1', 'X_COORDINATE': 476351.23, 'Y_COORDINATE': 165022.95, 'STATUS': 'APPROVED', 'LOGICAL_STATUS_CODE': '1', 'CLASSIFICATION_CODE': 'RD06', 'CLASSIFICATION_CODE_DESCRIPTION': 'Self Contained Flat (Includes Maisonette / Apartment)', 'LOCAL_CUSTODIAN_CODE': 360, 'LOCAL_CUSTODIAN_CODE_DESCRIPTION': 'WOKINGHAM', 'COUNTRY_CODE': 'E', 'COUNTRY_CODE_DESCRIPTION': 'This record is within England', 'POSTAL_ADDRESS_CODE': 'D', 'POSTAL_ADDRESS_CODE_DESCRIPTION': 'A record which is linked to PAF', 'BLPU_STATE_CODE': '2', 'BLPU_STATE_CODE_DESCRIPTION': 'In use', 'TOPOGRAPHY_LAYER_TOID': 'osgb5000005254619208', 'PARENT_UPRN': '10024050914', 'LAST_UPDATE_DATE': '09/03/2021', 'ENTRY_DATE': '06/07/2017', 'BLPU_STATE_DATE': '06/07/2017', 'LANGUAGE': 'EN', 'MATCH': 1.0, 'MATCH_DESCRIPTION': 'EXACT', 'DELIVERY_POINT_SUFFIX': '1A'}}\n"
     ]
    }
   ],
   "source": [
    "record = result_json[\"results\"][0]\n",
    "print(record)"
   ]
  },
  {
   "cell_type": "markdown",
   "metadata": {},
   "source": [
    "## Display derived information\n",
    "Displays the devolved nation name from a simple lookup, and the local authority using the local links manager local authority data and local custodian code."
   ]
  },
  {
   "cell_type": "code",
   "execution_count": 5,
   "metadata": {},
   "outputs": [],
   "source": [
    "# Load lookups\n",
    "countries = {\n",
    "    \"W\": \"Wales\",\n",
    "    \"N\": \"Northern Ireland\",\n",
    "    \"E\": \"England\",\n",
    "    \"S\": \"Scotland\"\n",
    "}\n"
   ]
  },
  {
   "cell_type": "code",
   "execution_count": 6,
   "metadata": {},
   "outputs": [
    {
     "name": "stdout",
     "output_type": "stream",
     "text": [
      "Devolved nation: England\n",
      "Local authority: Wokingham Borough Council\n"
     ]
    }
   ],
   "source": [
    "local_custodian_code = str(record['DPA']['LOCAL_CUSTODIAN_CODE'])\n",
    "country_code = record['DPA']['COUNTRY_CODE']\n",
    "\n",
    "print(f\"Devolved nation: {countries[country_code]}\")\n",
    "\n",
    "# Search CSV file for local custodian code and find local authority name\n",
    "import csv\n",
    "with open(\"local-authorities.csv\", mode='r') as f:\n",
    "    reader = csv.DictReader(f)\n",
    "    for row in reader:\n",
    "        if row[\"local_custodian_code\"] == local_custodian_code:\n",
    "            print(f\"Local authority: {row['name']}\")\n",
    "            break"
   ]
  },
  {
   "cell_type": "markdown",
   "metadata": {},
   "source": [
    "# Notes for implementation\n",
    "- Ask user to enter postcode (anything from the first 3 characters works with this API, eg. RG2)\n",
    "- Validate it's part of a postcode before search\n",
    "- Display results and let them choose.\n",
    "- Country code is in results and lets us know their devolved nation.\n",
    "- To find local authority name, use local custodian code and search local links data for that.\n",
    "- If they edit or enter address manually:\n",
    "    - Display country (E/NI/S/W) as drop down so they don't enter UK\n",
    "    - Display local authority as drop down"
   ]
  }
 ],
 "metadata": {
  "kernelspec": {
   "display_name": ".venv",
   "language": "python",
   "name": "python3"
  },
  "language_info": {
   "codemirror_mode": {
    "name": "ipython",
    "version": 3
   },
   "file_extension": ".py",
   "mimetype": "text/x-python",
   "name": "python",
   "nbconvert_exporter": "python",
   "pygments_lexer": "ipython3",
   "version": "3.10.13"
  }
 },
 "nbformat": 4,
 "nbformat_minor": 2
}
